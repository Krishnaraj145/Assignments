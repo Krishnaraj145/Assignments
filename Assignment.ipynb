{
 "cells": [
  {
   "cell_type": "markdown",
   "id": "34a1a6af-0ae4-41ea-b519-f7acc61fb1fc",
   "metadata": {
    "tags": []
   },
   "source": [
    "# My Jupyter Notebook on IBM Watson Studio\n",
    "\n",
    "\n"
   ]
  },
  {
   "cell_type": "markdown",
   "id": "ec07ffb0-23cc-4db5-8ebe-f9a0f4660697",
   "metadata": {},
   "source": [
    "### __Krishna Raj M__\n",
    "### Student"
   ]
  },
  {
   "cell_type": "markdown",
   "id": "36d7c6eb-1e5c-44f1-987c-11319002f945",
   "metadata": {},
   "source": [
    "\n",
    "_I am interested in Data Science because I love Mathematics. I would like to apply my math skills in the work I am doing._"
   ]
  },
  {
   "cell_type": "markdown",
   "id": "d1d58eea-d3c2-4472-af6c-828a2df7fb68",
   "metadata": {},
   "source": [
    "The following code will print \"Hello World!\""
   ]
  },
  {
   "cell_type": "code",
   "execution_count": 3,
   "id": "7296f891-811f-4e34-bc09-b6f504c03f0b",
   "metadata": {},
   "outputs": [
    {
     "name": "stdout",
     "output_type": "stream",
     "text": [
      "Hello World\n"
     ]
    }
   ],
   "source": [
    "print(\"Hello World\")"
   ]
  },
  {
   "cell_type": "markdown",
   "id": "8d4f790f-2fba-4d8a-a853-c10533899c2f",
   "metadata": {},
   "source": [
    "***"
   ]
  },
  {
   "cell_type": "markdown",
   "id": "99065b0e-87c6-4abd-85ab-7996a537b50a",
   "metadata": {},
   "source": [
    "- This\n",
    "- is \n",
    "- my\n",
    "- assignment"
   ]
  },
  {
   "cell_type": "markdown",
   "id": "91c14ce7-6fce-4548-b5cf-590b3a7ecbfa",
   "metadata": {},
   "source": [
    "1. Rate\n",
    "2. the \n",
    "3. assignment"
   ]
  },
  {
   "cell_type": "code",
   "execution_count": null,
   "id": "317c729e-feed-46b5-8ce7-64bd246a4566",
   "metadata": {},
   "outputs": [],
   "source": []
  },
  {
   "cell_type": "code",
   "execution_count": null,
   "id": "e4d84b02-598d-4e95-bad5-e1a2a017f812",
   "metadata": {},
   "outputs": [],
   "source": []
  },
  {
   "cell_type": "code",
   "execution_count": null,
   "id": "dd9c0232-94f3-4021-bf51-cf3643b6a3e0",
   "metadata": {},
   "outputs": [],
   "source": []
  }
 ],
 "metadata": {
  "kernelspec": {
   "display_name": "Python",
   "language": "python",
   "name": "conda-env-python-py"
  },
  "language_info": {
   "codemirror_mode": {
    "name": "ipython",
    "version": 3
   },
   "file_extension": ".py",
   "mimetype": "text/x-python",
   "name": "python",
   "nbconvert_exporter": "python",
   "pygments_lexer": "ipython3",
   "version": "3.7.12"
  }
 },
 "nbformat": 4,
 "nbformat_minor": 5
}
